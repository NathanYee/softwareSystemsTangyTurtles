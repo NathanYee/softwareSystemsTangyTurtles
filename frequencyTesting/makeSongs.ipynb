{
 "cells": [
  {
   "cell_type": "code",
   "execution_count": 1,
   "metadata": {
    "collapsed": false
   },
   "outputs": [],
   "source": [
    "notesDict = {}\n",
    "with open('notes.tabs', 'rt') as f:\n",
    "    for line in f:\n",
    "        note, freq, wave = (line.replace('\\n','').replace(' ', '').split('\\t'))\n",
    "        for note in note.split('/'):\n",
    "            notesDict[note] = freq        "
   ]
  },
  {
   "cell_type": "code",
   "execution_count": 8,
   "metadata": {
    "collapsed": true
   },
   "outputs": [],
   "source": [
    "def appendToFile(path, data):\n",
    "    \"\"\"\n",
    "    appendToFile appends a line of data to specified file.  Then adds new line\n",
    "    \n",
    "    Args:\n",
    "        path (string): the file path\n",
    "        data (data): the data to be written\n",
    "    \n",
    "    Return:\n",
    "        VOID\n",
    "    \"\"\"\n",
    "    with open(path, 'a') as file:\n",
    "        file.write(data + '\\n')"
   ]
  },
  {
   "cell_type": "code",
   "execution_count": 18,
   "metadata": {
    "collapsed": false
   },
   "outputs": [],
   "source": [
    "def writeSong(path, song, notesDict, metronome):\n",
    "    for note, time in twinkleTwinkle:\n",
    "        data = (\"{},{}\".format(notesDict[note], str(60 * 4 * time / 80)))\n",
    "        app"
   ]
  },
  {
   "cell_type": "code",
   "execution_count": 19,
   "metadata": {
    "collapsed": true
   },
   "outputs": [],
   "source": [
    "metronome = 80"
   ]
  },
  {
   "cell_type": "code",
   "execution_count": 20,
   "metadata": {
    "collapsed": true
   },
   "outputs": [],
   "source": [
    "twinkleTwinkle = [['C4', 1/4], ['C4', 1/4], ['G4', 1/4], ['G4', 1/4],\n",
    "                  ['A4', 1/4], ['A4', 1/4], ['G4', 1/2],\n",
    "                  ['F4', 1/4], ['F4', 1/4], ['E4', 1/4], ['E4', 1/4],\n",
    "                  ['D4', 1/4], ['D4', 1/4], ['C4', 1/2],\n",
    "                 ]"
   ]
  },
  {
   "cell_type": "code",
   "execution_count": 21,
   "metadata": {
    "collapsed": false
   },
   "outputs": [
    {
     "name": "stdout",
     "output_type": "stream",
     "text": [
      "261.63,0.75\n",
      "261.63,0.75\n",
      "392.00,0.75\n",
      "392.00,0.75\n",
      "440.00,0.75\n",
      "440.00,0.75\n",
      "392.00,1.5\n",
      "349.23,0.75\n",
      "349.23,0.75\n",
      "329.63,0.75\n",
      "329.63,0.75\n",
      "293.66,0.75\n",
      "293.66,0.75\n",
      "261.63,1.5\n"
     ]
    }
   ],
   "source": [
    "writeSong('twinkleTwinkle.csv', twinkleTwinkle, notesDict, metronome)"
   ]
  },
  {
   "cell_type": "code",
   "execution_count": null,
   "metadata": {
    "collapsed": true
   },
   "outputs": [],
   "source": []
  }
 ],
 "metadata": {
  "kernelspec": {
   "display_name": "Python 3",
   "language": "python",
   "name": "python3"
  },
  "language_info": {
   "codemirror_mode": {
    "name": "ipython",
    "version": 3
   },
   "file_extension": ".py",
   "mimetype": "text/x-python",
   "name": "python",
   "nbconvert_exporter": "python",
   "pygments_lexer": "ipython3",
   "version": "3.5.2"
  }
 },
 "nbformat": 4,
 "nbformat_minor": 1
}
