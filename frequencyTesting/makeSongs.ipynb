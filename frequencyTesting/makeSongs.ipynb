{
 "cells": [
  {
   "cell_type": "code",
   "execution_count": 1,
   "metadata": {
    "collapsed": false
   },
   "outputs": [],
   "source": [
    "notesDict = {}\n",
    "with open('notes.tabs', 'rt') as f:\n",
    "    for line in f:\n",
    "        note, freq, wave = (line.replace('\\n','').replace(' ', '').split('\\t'))\n",
    "        for note in note.split('/'):\n",
    "            notesDict[note] = freq        "
   ]
  },
  {
   "cell_type": "code",
   "execution_count": 2,
   "metadata": {
    "collapsed": true
   },
   "outputs": [],
   "source": [
    "def appendToFile(path, data):\n",
    "    \"\"\"\n",
    "    appendToFile appends a line of data to specified file.  Then adds new line\n",
    "    \n",
    "    Args:\n",
    "        path (string): the file path\n",
    "        data (data): the data to be written\n",
    "    \n",
    "    Return:\n",
    "        VOID\n",
    "    \"\"\"\n",
    "    with open(path, 'a') as file:\n",
    "        file.write(data + '\\n')"
   ]
  },
  {
   "cell_type": "code",
   "execution_count": 17,
   "metadata": {
    "collapsed": false
   },
   "outputs": [],
   "source": [
    "def writeSong(path, song, notesDict, metronome):\n",
    "    for note, time in twinkleTwinkle:\n",
    "        time = str(1000 * 60 * 4 * time / 80)\n",
    "        data = (\"{},{}\".format(int(float(notesDict[note])), int(time)))\n",
    "        appendToFile(path, data)"
   ]
  },
  {
   "cell_type": "code",
   "execution_count": null,
   "metadata": {
    "collapsed": false
   },
   "outputs": [],
   "source": []
  },
  {
   "cell_type": "code",
   "execution_count": 18,
   "metadata": {
    "collapsed": true
   },
   "outputs": [],
   "source": [
    "metronome = 80"
   ]
  },
  {
   "cell_type": "code",
   "execution_count": 19,
   "metadata": {
    "collapsed": true
   },
   "outputs": [],
   "source": [
    "twinkleTwinkle = [['C4', 1/4], ['C4', 1/4], ['G4', 1/4], ['G4', 1/4],\n",
    "                  ['A4', 1/4], ['A4', 1/4], ['G4', 1/2],\n",
    "                  ['F4', 1/4], ['F4', 1/4], ['E4', 1/4], ['E4', 1/4],\n",
    "                  ['D4', 1/4], ['D4', 1/4], ['C4', 1/2],\n",
    "                 ]"
   ]
  },
  {
   "cell_type": "code",
   "execution_count": 20,
   "metadata": {
    "collapsed": false
   },
   "outputs": [
    {
     "ename": "ValueError",
     "evalue": "invalid literal for int() with base 10: '750.0'",
     "output_type": "error",
     "traceback": [
      "\u001b[0;31m---------------------------------------------------------------------------\u001b[0m",
      "\u001b[0;31mValueError\u001b[0m                                Traceback (most recent call last)",
      "\u001b[0;32m<ipython-input-20-898cd3e35346>\u001b[0m in \u001b[0;36m<module>\u001b[0;34m()\u001b[0m\n\u001b[0;32m----> 1\u001b[0;31m \u001b[0mwriteSong\u001b[0m\u001b[0;34m(\u001b[0m\u001b[0;34m'twinkleTwinkle.csv'\u001b[0m\u001b[0;34m,\u001b[0m \u001b[0mtwinkleTwinkle\u001b[0m\u001b[0;34m,\u001b[0m \u001b[0mnotesDict\u001b[0m\u001b[0;34m,\u001b[0m \u001b[0mmetronome\u001b[0m\u001b[0;34m)\u001b[0m\u001b[0;34m\u001b[0m\u001b[0m\n\u001b[0m",
      "\u001b[0;32m<ipython-input-17-34cf5350c5f1>\u001b[0m in \u001b[0;36mwriteSong\u001b[0;34m(path, song, notesDict, metronome)\u001b[0m\n\u001b[1;32m      2\u001b[0m     \u001b[0;32mfor\u001b[0m \u001b[0mnote\u001b[0m\u001b[0;34m,\u001b[0m \u001b[0mtime\u001b[0m \u001b[0;32min\u001b[0m \u001b[0mtwinkleTwinkle\u001b[0m\u001b[0;34m:\u001b[0m\u001b[0;34m\u001b[0m\u001b[0m\n\u001b[1;32m      3\u001b[0m         \u001b[0mtime\u001b[0m \u001b[0;34m=\u001b[0m \u001b[0mstr\u001b[0m\u001b[0;34m(\u001b[0m\u001b[0;36m1000\u001b[0m \u001b[0;34m*\u001b[0m \u001b[0;36m60\u001b[0m \u001b[0;34m*\u001b[0m \u001b[0;36m4\u001b[0m \u001b[0;34m*\u001b[0m \u001b[0mtime\u001b[0m \u001b[0;34m/\u001b[0m \u001b[0;36m80\u001b[0m\u001b[0;34m)\u001b[0m\u001b[0;34m\u001b[0m\u001b[0m\n\u001b[0;32m----> 4\u001b[0;31m         \u001b[0mdata\u001b[0m \u001b[0;34m=\u001b[0m \u001b[0;34m(\u001b[0m\u001b[0;34m\"{},{}\"\u001b[0m\u001b[0;34m.\u001b[0m\u001b[0mformat\u001b[0m\u001b[0;34m(\u001b[0m\u001b[0mint\u001b[0m\u001b[0;34m(\u001b[0m\u001b[0mfloat\u001b[0m\u001b[0;34m(\u001b[0m\u001b[0mnotesDict\u001b[0m\u001b[0;34m[\u001b[0m\u001b[0mnote\u001b[0m\u001b[0;34m]\u001b[0m\u001b[0;34m)\u001b[0m\u001b[0;34m)\u001b[0m\u001b[0;34m,\u001b[0m \u001b[0mint\u001b[0m\u001b[0;34m(\u001b[0m\u001b[0mtime\u001b[0m\u001b[0;34m)\u001b[0m\u001b[0;34m)\u001b[0m\u001b[0;34m)\u001b[0m\u001b[0;34m\u001b[0m\u001b[0m\n\u001b[0m\u001b[1;32m      5\u001b[0m         \u001b[0mappendToFile\u001b[0m\u001b[0;34m(\u001b[0m\u001b[0mpath\u001b[0m\u001b[0;34m,\u001b[0m \u001b[0mdata\u001b[0m\u001b[0;34m)\u001b[0m\u001b[0;34m\u001b[0m\u001b[0m\n",
      "\u001b[0;31mValueError\u001b[0m: invalid literal for int() with base 10: '750.0'"
     ]
    }
   ],
   "source": [
    "writeSong('twinkleTwinkle.csv', twinkleTwinkle, notesDict, metronome)"
   ]
  },
  {
   "cell_type": "code",
   "execution_count": null,
   "metadata": {
    "collapsed": true
   },
   "outputs": [],
   "source": []
  }
 ],
 "metadata": {
  "kernelspec": {
   "display_name": "Python 3",
   "language": "python",
   "name": "python3"
  },
  "language_info": {
   "codemirror_mode": {
    "name": "ipython",
    "version": 3
   },
   "file_extension": ".py",
   "mimetype": "text/x-python",
   "name": "python",
   "nbconvert_exporter": "python",
   "pygments_lexer": "ipython3",
   "version": "3.5.2"
  }
 },
 "nbformat": 4,
 "nbformat_minor": 1
}
