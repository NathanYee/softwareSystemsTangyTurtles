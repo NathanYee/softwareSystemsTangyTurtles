{
 "cells": [
  {
   "cell_type": "code",
   "execution_count": 1,
   "metadata": {
    "collapsed": true
   },
   "outputs": [],
   "source": [
    "import os"
   ]
  },
  {
   "cell_type": "code",
   "execution_count": 2,
   "metadata": {
    "collapsed": false
   },
   "outputs": [],
   "source": [
    "notesDict = {}\n",
    "with open('notes.tabs', 'rt') as f:\n",
    "    for line in f:\n",
    "        note, freq, wave = (line.replace('\\n','').replace(' ', '').split('\\t'))\n",
    "        for note in note.split('/'):\n",
    "            notesDict[note] = freq        "
   ]
  },
  {
   "cell_type": "code",
   "execution_count": 3,
   "metadata": {
    "collapsed": true
   },
   "outputs": [],
   "source": [
    "def appendToFile(path, data):\n",
    "    \"\"\"\n",
    "    appendToFile appends a line of data to specified file.  Then adds new line\n",
    "    \n",
    "    Args:\n",
    "        path (string): the file path\n",
    "        data (data): the data to be written\n",
    "    \n",
    "    Return:\n",
    "        VOID\n",
    "    \"\"\"\n",
    "    with open(path, 'a') as file:\n",
    "        file.write(data + '\\n')"
   ]
  },
  {
   "cell_type": "code",
   "execution_count": 32,
   "metadata": {
    "collapsed": false
   },
   "outputs": [],
   "source": [
    "def writeSong(path, song, notesDict, metronome):\n",
    "    for note, time in song:\n",
    "        time = int(float(1000 * 60 * 4 * time / 80))\n",
    "        data = (\"{},{}\".format(int(float(notesDict[note])), time))\n",
    "        appendToFile(path, data)"
   ]
  },
  {
   "cell_type": "code",
   "execution_count": 40,
   "metadata": {
    "collapsed": true
   },
   "outputs": [],
   "source": [
    "metronome = 140"
   ]
  },
  {
   "cell_type": "code",
   "execution_count": 41,
   "metadata": {
    "collapsed": true
   },
   "outputs": [],
   "source": [
    "pause = ['D2', 1/8]"
   ]
  },
  {
   "cell_type": "code",
   "execution_count": 47,
   "metadata": {
    "collapsed": false
   },
   "outputs": [],
   "source": [
    "twinkleTwinkle = [\n",
    "                  ['C5', 1/4], ['C5', 1/4], ['G5', 1/4], ['G5', 1/4],\n",
    "                  ['A5', 1/4], ['A5', 1/4], ['G5', 1/2],\n",
    "                  ['F5', 1/4], ['F5', 1/4], ['E5', 1/4], ['E5', 1/4],\n",
    "                  ['D5', 1/4], ['D5', 1/4], ['C5', 1/2],\n",
    "                  \n",
    "#                   ['G6', 1/4], ['G6', 1/4], ['F6', 1/4], ['F6', 1/4],\n",
    "#                   ['E6', 1/4], ['E6', 1/4], ['D6', 1/2],\n",
    "#                   ['G6', 1/4], ['G6', 1/4], ['F6', 1/4], ['F6', 1/4],\n",
    "#                   ['E6', 1/4], ['E6', 1/4], ['D6', 1/2],\n",
    "                  \n",
    "                  ['G5', 1/4], ['G5', 1/4], ['F5', 1/4], ['F5', 1/4],\n",
    "                  ['E5', 1/4], ['E5', 1/4], ['D5', 1/2],\n",
    "                  ['G5', 1/4], ['G5', 1/4], ['F5', 1/4], ['F5', 1/4],\n",
    "                  ['E5', 1/4], ['E5', 1/4], ['D5', 1/2],\n",
    "                  \n",
    "                  ['C5', 1/4], ['C5', 1/4], ['G5', 1/4], ['G5', 1/4],\n",
    "                  ['A5', 1/4], ['A5', 1/4], ['G5', 1/2],\n",
    "                  ['F5', 1/4], ['F5', 1/4], ['E5', 1/4], ['E5', 1/4],\n",
    "                  ['D5', 1/4], ['D5', 1/4], ['C5', 1/2]\n",
    "                 ]"
   ]
  },
  {
   "cell_type": "code",
   "execution_count": 48,
   "metadata": {
    "collapsed": true
   },
   "outputs": [],
   "source": [
    "# twinkleTwinkle = [['D2', 1/8],['D2', 1/8],['D2', 1/8],['D2', 1/8],['D2', 1/8],['D2', 1/8]\n",
    "#                  ]"
   ]
  },
  {
   "cell_type": "code",
   "execution_count": 49,
   "metadata": {
    "collapsed": false
   },
   "outputs": [],
   "source": [
    "song = []\n",
    "for note in twinkleTwinkle:\n",
    "    song.append(note)\n",
    "    song.append(pause)"
   ]
  },
  {
   "cell_type": "code",
   "execution_count": 50,
   "metadata": {
    "collapsed": false
   },
   "outputs": [],
   "source": [
    "os.remove('twinkleTwinkle.csv')"
   ]
  },
  {
   "cell_type": "code",
   "execution_count": 51,
   "metadata": {
    "collapsed": false
   },
   "outputs": [],
   "source": [
    "writeSong('twinkleTwinkle.csv', song, notesDict, metronome)"
   ]
  },
  {
   "cell_type": "markdown",
   "metadata": {
    "collapsed": true
   },
   "source": [
    "## "
   ]
  },
  {
   "cell_type": "code",
   "execution_count": null,
   "metadata": {
    "collapsed": true
   },
   "outputs": [],
   "source": []
  }
 ],
 "metadata": {
  "kernelspec": {
   "display_name": "Python 3",
   "language": "python",
   "name": "python3"
  },
  "language_info": {
   "codemirror_mode": {
    "name": "ipython",
    "version": 3
   },
   "file_extension": ".py",
   "mimetype": "text/x-python",
   "name": "python",
   "nbconvert_exporter": "python",
   "pygments_lexer": "ipython3",
   "version": "3.5.2"
  }
 },
 "nbformat": 4,
 "nbformat_minor": 1
}
