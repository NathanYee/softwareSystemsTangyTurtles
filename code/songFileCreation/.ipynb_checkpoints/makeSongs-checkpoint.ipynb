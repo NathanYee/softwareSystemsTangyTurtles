{
 "cells": [
  {
   "cell_type": "code",
   "execution_count": 20,
   "metadata": {
    "collapsed": true
   },
   "outputs": [],
   "source": [
    "import os"
   ]
  },
  {
   "cell_type": "code",
   "execution_count": 1,
   "metadata": {
    "collapsed": false
   },
   "outputs": [],
   "source": [
    "notesDict = {}\n",
    "with open('notes.tabs', 'rt') as f:\n",
    "    for line in f:\n",
    "        note, freq, wave = (line.replace('\\n','').replace(' ', '').split('\\t'))\n",
    "        for note in note.split('/'):\n",
    "            notesDict[note] = freq        "
   ]
  },
  {
   "cell_type": "code",
   "execution_count": 2,
   "metadata": {
    "collapsed": true
   },
   "outputs": [],
   "source": [
    "def appendToFile(path, data):\n",
    "    \"\"\"\n",
    "    appendToFile appends a line of data to specified file.  Then adds new line\n",
    "    \n",
    "    Args:\n",
    "        path (string): the file path\n",
    "        data (data): the data to be written\n",
    "    \n",
    "    Return:\n",
    "        VOID\n",
    "    \"\"\"\n",
    "    with open(path, 'a') as file:\n",
    "        file.write(data + '\\n')"
   ]
  },
  {
   "cell_type": "code",
   "execution_count": 3,
   "metadata": {
    "collapsed": false
   },
   "outputs": [],
   "source": [
    "def writeSong(path, song, notesDict, metronome):\n",
    "    for note, time in twinkleTwinkle:\n",
    "        time = int(float(1000 * 60 * 4 * time / 80))\n",
    "        data = (\"{},{}\".format(int(float(notesDict[note])), time))\n",
    "        appendToFile(path, data)"
   ]
  },
  {
   "cell_type": "code",
   "execution_count": 4,
   "metadata": {
    "collapsed": true
   },
   "outputs": [],
   "source": [
    "metronome = 40"
   ]
  },
  {
   "cell_type": "code",
   "execution_count": 16,
   "metadata": {
    "collapsed": true
   },
   "outputs": [],
   "source": [
    "pause = ['D3', 1/2]"
   ]
  },
  {
   "cell_type": "code",
   "execution_count": 12,
   "metadata": {
    "collapsed": false
   },
   "outputs": [],
   "source": [
    "twinkleTwinkle = [['C5', 1/4], ['C5', 1/4], ['G5', 1/4], ['G5', 1/4],\n",
    "                  ['A5', 1/4], ['A5', 1/4], ['G5', 1/2],\n",
    "                  ['F5', 1/4], ['F5', 1/4], ['E5', 1/4], ['E5', 1/4],\n",
    "                  ['D5', 1/4], ['D5', 1/4], ['C5', 1/2],\n",
    "                 ]"
   ]
  },
  {
   "cell_type": "code",
   "execution_count": 17,
   "metadata": {
    "collapsed": false
   },
   "outputs": [],
   "source": [
    "song = []\n",
    "for note in twinkleTwinkle:\n",
    "    song.append(note)\n",
    "    song.append(pause)"
   ]
  },
  {
   "cell_type": "code",
   "execution_count": 19,
   "metadata": {
    "collapsed": true
   },
   "outputs": [],
   "source": []
  },
  {
   "cell_type": "code",
   "execution_count": 21,
   "metadata": {
    "collapsed": false
   },
   "outputs": [],
   "source": [
    "os.remove('twinkleTwinkle.csv')\n",
    "writeSong('twinkleTwinkle.csv', song, notesDict, metronome)"
   ]
  },
  {
   "cell_type": "code",
   "execution_count": null,
   "metadata": {
    "collapsed": true
   },
   "outputs": [],
   "source": []
  }
 ],
 "metadata": {
  "kernelspec": {
   "display_name": "Python 3",
   "language": "python",
   "name": "python3"
  },
  "language_info": {
   "codemirror_mode": {
    "name": "ipython",
    "version": 3
   },
   "file_extension": ".py",
   "mimetype": "text/x-python",
   "name": "python",
   "nbconvert_exporter": "python",
   "pygments_lexer": "ipython3",
   "version": "3.5.2"
  }
 },
 "nbformat": 4,
 "nbformat_minor": 1
}
